{
 "cells": [
  {
   "cell_type": "code",
   "execution_count": 1,
   "metadata": {
    "collapsed": false
   },
   "outputs": [],
   "source": [
    "%matplotlib inline\n",
    "import matplotlib.pyplot as plt\n",
    "import numpy as np\n",
    "from scipy import linalg\n",
    "import math\n",
    "from neicio.readstation import readStation\n",
    "from neicio.shake import ShakeGrid\n",
    "from neicio.gmt import GMTGrid\n",
    "import time\n",
    "from openquake.hazardlib.imt import from_string\n",
    "from openquake.hazardlib.site import Site, SiteCollection\n",
    "from openquake.hazardlib.geo import Point\n",
    "from openquake.hazardlib.correlation import JB2009CorrelationModel\n",
    "from openquake.hazardlib.correlation import BaseCorrelationModel\n",
    "from matplotlib import cm\n",
    "import sys\n",
    "sys.path.append('/Users/sverros/Documents/Modules/')\n",
    "from Correlation.setup import initialize\n",
    "from Correlation.loop_rand import main\n",
    "from Correlation.realizations import realizations"
   ]
  },
  {
   "cell_type": "code",
   "execution_count": 2,
   "metadata": {
    "collapsed": false
   },
   "outputs": [
    {
     "name": "stdout",
     "output_type": "stream",
     "text": [
      "0 stations\n",
      "\tInitialization Time: 0.26093506813\n"
     ]
    }
   ],
   "source": [
    "# Variable of interest                                                                                                                                                                                                        \n",
    "voi = 'PGA'\n",
    "\n",
    "# Intensity Factor\n",
    "intensity_factor = 1\n",
    "\n",
    "vscorr = True\n",
    "\n",
    "# Get shakemap for desired variable, PGA, uncertainty grid and stationdata                                                                                                                                                    \n",
    "# Selected Stations: Units in pctg                                                                                                                                                                                            \n",
    "shakemap = ShakeGrid('Inputs/grid.xml', variable = '%s' % voi)\n",
    "\n",
    "# Uncertainty Data: Units in ln(pctg)                                                                                                                                                                                         \n",
    "uncertainty = ShakeGrid('Inputs/uncertainty.xml', variable= 'STD%s' % (voi))\n",
    "\n",
    "# Station Data: Units in pctg                                                                                                                                                                                                 \n",
    "stationlist = 'Inputs/stationlist.xml'\n",
    "stationdata = readStation(stationlist)\n",
    "\n",
    "print np.size(stationdata['lon']), 'stations'\n",
    "\n",
    "# Sets up grid spacing, site collections, and other data values\n",
    "# optional parameters: dm, dn, the grid discritization defaulting to 1\n",
    "variables = initialize(shakemap, uncertainty, stationdata, vscorr)\n",
    "M = variables['M']\n",
    "N = variables['N']\n",
    "K = variables['K']\n",
    "\n",
    "# Calculate the random array, stored for testing\n",
    "#rand = np.random.randn(M*N).flatten()\n",
    "rand = []\n",
    "\n",
    "with open('rand2.txt') as f:\n",
    "    for line in f:\n",
    "        rand.append(float(line))\n",
    "f.close()\n",
    "\n"
   ]
  },
  {
   "cell_type": "code",
   "execution_count": null,
   "metadata": {
    "collapsed": false
   },
   "outputs": [
    {
     "name": "stdout",
     "output_type": "stream",
     "text": [
      "Finishing step: 0\n",
      "Finishing step: 5000\n",
      "Finishing step: 10000\n",
      "Finishing step: 15000\n",
      "Finishing step: 20000\n",
      "Finishing step: 25000\n",
      "Finishing step: 30000\n",
      "[[ 0.43952639  0.8201699   0.59176983 ..., -0.64209665 -0.27433631 -0.73231265]\n",
      " [ 0.78701277  0.86101106  0.47136681 ..., -0.56172336 -0.98389822 -0.59573979]\n",
      " [ 0.62299911  0.63758312  0.3290209  ..., -0.7958823  -0.96341637 -0.32712981]\n",
      " ..., \n",
      " [-0.21628126  0.03512448 -0.11203668 ..., -0.13019402  0.07165379 -0.08995787]\n",
      " [ 0.2208704  -0.06373164 -0.1650547  ..., -0.09311011 -0.41524354 -0.29866398]\n",
      " [ 0.09641299  0.46229572  0.3198288  ...,  0.08113342  0.27062742  0.0977373 ]]\n",
      "Finishing step: 0\n",
      "Finishing step: 5000\n",
      "Finishing step: 10000\n"
     ]
    }
   ],
   "source": [
    "R = [15, 25, 35]\n",
    "\n",
    "f = open('workfileNR26_uncorr.txt', 'w')\n",
    "\n",
    "f.write('Northridge, %d stations, max_R = %d\\n' %(np.size(stationdata['pga']), R[-1]))\n",
    "s = str(np.size(R))\n",
    "f.write(s+'\\n')\n",
    "s = str(M)\n",
    "f.write(s+'\\n')\n",
    "s = str(N)\n",
    "f.write(s+'\\n')\n",
    "\n",
    "data_NEW = np.zeros([M*N, np.size(R)])\n",
    "\n",
    "for k in range(0,np.size(R)):\n",
    "    out = main(variables, R[k], voi, rand, vscorr, 0.9)\n",
    "    data_NEW[:,k] = np.reshape(out['cor'], [M*N])\n",
    "    \n",
    "    for j in range(0, M*N):\n",
    "        s = str(data_NEW[j,k])\n",
    "        f.write(s+'\\n')\n",
    "                         \n",
    "f.close()"
   ]
  },
  {
   "cell_type": "code",
   "execution_count": null,
   "metadata": {
    "collapsed": false
   },
   "outputs": [],
   "source": []
  },
  {
   "cell_type": "code",
   "execution_count": 12,
   "metadata": {
    "collapsed": false
   },
   "outputs": [],
   "source": [
    "!cp 'workfileNR26_uncorr.txt' '/Users/sverros/Documents/Testing/radius_NR0_rand3_uncorrelated.txt'"
   ]
  },
  {
   "cell_type": "code",
   "execution_count": null,
   "metadata": {
    "collapsed": false
   },
   "outputs": [],
   "source": []
  }
 ],
 "metadata": {
  "kernelspec": {
   "display_name": "Python 2",
   "language": "python",
   "name": "python2"
  },
  "language_info": {
   "codemirror_mode": {
    "name": "ipython",
    "version": 2
   },
   "file_extension": ".py",
   "mimetype": "text/x-python",
   "name": "python",
   "nbconvert_exporter": "python",
   "pygments_lexer": "ipython2",
   "version": "2.7.10"
  }
 },
 "nbformat": 4,
 "nbformat_minor": 0
}
